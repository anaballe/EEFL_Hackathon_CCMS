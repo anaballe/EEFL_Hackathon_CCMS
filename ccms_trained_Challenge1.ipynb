{
 "cells": [
  {
   "cell_type": "code",
   "execution_count": 43,
   "metadata": {
    "collapsed": true
   },
   "outputs": [],
   "source": [
    "import matplotlib.pyplot as plt"
   ]
  },
  {
   "cell_type": "code",
   "execution_count": 69,
   "metadata": {
    "collapsed": true
   },
   "outputs": [],
   "source": [
    "import numpy as np\n",
    "import seaborn as sns"
   ]
  },
  {
   "cell_type": "code",
   "execution_count": 70,
   "metadata": {
    "collapsed": true
   },
   "outputs": [],
   "source": [
    "plt.figure(figsize=(15,15))\n",
    "sns.heatmap(df.corr(), cmap=\"coolwarm\", annot=True)\n",
    "plt.show()"
   ]
  },
  {
   "cell_type": "code",
   "execution_count": 1,
   "metadata": {
    "collapsed": true
   },
   "outputs": [],
   "source": [
    "import sklearn"
   ]
  },
  {
   "cell_type": "code",
   "execution_count": 2,
   "metadata": {
    "collapsed": true
   },
   "outputs": [],
   "source": [
    "import pandas as pd"
   ]
  },
  {
   "cell_type": "code",
   "execution_count": 3,
   "metadata": {
    "collapsed": true
   },
   "outputs": [],
   "source": [
    "df = pd.read_csv('/root/Downloads/Hackathon/data.csv')"
   ]
  },
  {
   "cell_type": "code",
   "execution_count": 4,
   "metadata": {
    "collapsed": false
   },
   "outputs": [
    {
     "data": {
      "text/html": [
       "<div>\n",
       "<table border=\"1\" class=\"dataframe\">\n",
       "  <thead>\n",
       "    <tr style=\"text-align: right;\">\n",
       "      <th></th>\n",
       "      <th>Lamp_Id</th>\n",
       "      <th>Timestamp</th>\n",
       "      <th>ActivePower</th>\n",
       "      <th>ApparentPower</th>\n",
       "      <th>Current_R</th>\n",
       "      <th>Current_Y</th>\n",
       "      <th>Current_B</th>\n",
       "      <th>R_Phase_kW</th>\n",
       "      <th>Y_Phase_kW</th>\n",
       "      <th>B_Phase_kW</th>\n",
       "      <th>Target</th>\n",
       "    </tr>\n",
       "  </thead>\n",
       "  <tbody>\n",
       "    <tr>\n",
       "      <th>0</th>\n",
       "      <td>1</td>\n",
       "      <td>2019-05-01 23:44:42</td>\n",
       "      <td>5.11</td>\n",
       "      <td>5.15</td>\n",
       "      <td>10.66</td>\n",
       "      <td>5.47</td>\n",
       "      <td>5.85</td>\n",
       "      <td>2.48</td>\n",
       "      <td>1.27</td>\n",
       "      <td>1.36</td>\n",
       "      <td>0</td>\n",
       "    </tr>\n",
       "    <tr>\n",
       "      <th>1</th>\n",
       "      <td>2</td>\n",
       "      <td>2019-05-01 23:29:04</td>\n",
       "      <td>5.11</td>\n",
       "      <td>5.14</td>\n",
       "      <td>10.65</td>\n",
       "      <td>5.48</td>\n",
       "      <td>5.83</td>\n",
       "      <td>2.48</td>\n",
       "      <td>1.27</td>\n",
       "      <td>1.35</td>\n",
       "      <td>0</td>\n",
       "    </tr>\n",
       "    <tr>\n",
       "      <th>2</th>\n",
       "      <td>3</td>\n",
       "      <td>2019-05-01 23:13:58</td>\n",
       "      <td>5.11</td>\n",
       "      <td>5.14</td>\n",
       "      <td>10.74</td>\n",
       "      <td>5.52</td>\n",
       "      <td>5.89</td>\n",
       "      <td>2.48</td>\n",
       "      <td>1.27</td>\n",
       "      <td>1.35</td>\n",
       "      <td>0</td>\n",
       "    </tr>\n",
       "    <tr>\n",
       "      <th>3</th>\n",
       "      <td>4</td>\n",
       "      <td>2019-05-01 22:57:49</td>\n",
       "      <td>5.12</td>\n",
       "      <td>5.16</td>\n",
       "      <td>10.73</td>\n",
       "      <td>5.53</td>\n",
       "      <td>5.90</td>\n",
       "      <td>2.48</td>\n",
       "      <td>1.27</td>\n",
       "      <td>1.36</td>\n",
       "      <td>0</td>\n",
       "    </tr>\n",
       "    <tr>\n",
       "      <th>4</th>\n",
       "      <td>5</td>\n",
       "      <td>2019-05-01 22:42:12</td>\n",
       "      <td>5.17</td>\n",
       "      <td>5.22</td>\n",
       "      <td>10.79</td>\n",
       "      <td>5.55</td>\n",
       "      <td>5.92</td>\n",
       "      <td>2.51</td>\n",
       "      <td>1.29</td>\n",
       "      <td>1.37</td>\n",
       "      <td>0</td>\n",
       "    </tr>\n",
       "  </tbody>\n",
       "</table>\n",
       "</div>"
      ],
      "text/plain": [
       "   Lamp_Id              Timestamp  ActivePower  ApparentPower  Current_R  \\\n",
       "0        1   2019-05-01 23:44:42          5.11           5.15      10.66   \n",
       "1        2   2019-05-01 23:29:04          5.11           5.14      10.65   \n",
       "2        3   2019-05-01 23:13:58          5.11           5.14      10.74   \n",
       "3        4   2019-05-01 22:57:49          5.12           5.16      10.73   \n",
       "4        5   2019-05-01 22:42:12          5.17           5.22      10.79   \n",
       "\n",
       "   Current_Y  Current_B  R_Phase_kW  Y_Phase_kW  B_Phase_kW  Target  \n",
       "0       5.47       5.85        2.48        1.27        1.36       0  \n",
       "1       5.48       5.83        2.48        1.27        1.35       0  \n",
       "2       5.52       5.89        2.48        1.27        1.35       0  \n",
       "3       5.53       5.90        2.48        1.27        1.36       0  \n",
       "4       5.55       5.92        2.51        1.29        1.37       0  "
      ]
     },
     "execution_count": 4,
     "metadata": {},
     "output_type": "execute_result"
    }
   ],
   "source": [
    "df.head()"
   ]
  },
  {
   "cell_type": "code",
   "execution_count": 23,
   "metadata": {
    "collapsed": false
   },
   "outputs": [],
   "source": [
    "new_df = df[['Lamp_Id','ActivePower','ApparentPower','Current_R','Current_Y','Current_B','R_Phase_kW','Y_Phase_kW','B_Phase_kW',]]"
   ]
  },
  {
   "cell_type": "code",
   "execution_count": 8,
   "metadata": {
    "collapsed": false
   },
   "outputs": [
    {
     "data": {
      "text/html": [
       "<div>\n",
       "<table border=\"1\" class=\"dataframe\">\n",
       "  <thead>\n",
       "    <tr style=\"text-align: right;\">\n",
       "      <th></th>\n",
       "      <th>Lamp_Id</th>\n",
       "      <th>ActivePower</th>\n",
       "      <th>ApparentPower</th>\n",
       "      <th>Current_R</th>\n",
       "      <th>Current_Y</th>\n",
       "      <th>Current_B</th>\n",
       "      <th>R_Phase_kW</th>\n",
       "      <th>Y_Phase_kW</th>\n",
       "      <th>B_Phase_kW</th>\n",
       "    </tr>\n",
       "  </thead>\n",
       "  <tbody>\n",
       "    <tr>\n",
       "      <th>0</th>\n",
       "      <td>1</td>\n",
       "      <td>5.11</td>\n",
       "      <td>5.15</td>\n",
       "      <td>10.66</td>\n",
       "      <td>5.47</td>\n",
       "      <td>5.85</td>\n",
       "      <td>2.48</td>\n",
       "      <td>1.27</td>\n",
       "      <td>1.36</td>\n",
       "    </tr>\n",
       "    <tr>\n",
       "      <th>1</th>\n",
       "      <td>2</td>\n",
       "      <td>5.11</td>\n",
       "      <td>5.14</td>\n",
       "      <td>10.65</td>\n",
       "      <td>5.48</td>\n",
       "      <td>5.83</td>\n",
       "      <td>2.48</td>\n",
       "      <td>1.27</td>\n",
       "      <td>1.35</td>\n",
       "    </tr>\n",
       "    <tr>\n",
       "      <th>2</th>\n",
       "      <td>3</td>\n",
       "      <td>5.11</td>\n",
       "      <td>5.14</td>\n",
       "      <td>10.74</td>\n",
       "      <td>5.52</td>\n",
       "      <td>5.89</td>\n",
       "      <td>2.48</td>\n",
       "      <td>1.27</td>\n",
       "      <td>1.35</td>\n",
       "    </tr>\n",
       "    <tr>\n",
       "      <th>3</th>\n",
       "      <td>4</td>\n",
       "      <td>5.12</td>\n",
       "      <td>5.16</td>\n",
       "      <td>10.73</td>\n",
       "      <td>5.53</td>\n",
       "      <td>5.90</td>\n",
       "      <td>2.48</td>\n",
       "      <td>1.27</td>\n",
       "      <td>1.36</td>\n",
       "    </tr>\n",
       "    <tr>\n",
       "      <th>4</th>\n",
       "      <td>5</td>\n",
       "      <td>5.17</td>\n",
       "      <td>5.22</td>\n",
       "      <td>10.79</td>\n",
       "      <td>5.55</td>\n",
       "      <td>5.92</td>\n",
       "      <td>2.51</td>\n",
       "      <td>1.29</td>\n",
       "      <td>1.37</td>\n",
       "    </tr>\n",
       "  </tbody>\n",
       "</table>\n",
       "</div>"
      ],
      "text/plain": [
       "   Lamp_Id  ActivePower  ApparentPower  Current_R  Current_Y  Current_B  \\\n",
       "0        1         5.11           5.15      10.66       5.47       5.85   \n",
       "1        2         5.11           5.14      10.65       5.48       5.83   \n",
       "2        3         5.11           5.14      10.74       5.52       5.89   \n",
       "3        4         5.12           5.16      10.73       5.53       5.90   \n",
       "4        5         5.17           5.22      10.79       5.55       5.92   \n",
       "\n",
       "   R_Phase_kW  Y_Phase_kW  B_Phase_kW  \n",
       "0        2.48        1.27        1.36  \n",
       "1        2.48        1.27        1.35  \n",
       "2        2.48        1.27        1.35  \n",
       "3        2.48        1.27        1.36  \n",
       "4        2.51        1.29        1.37  "
      ]
     },
     "execution_count": 8,
     "metadata": {},
     "output_type": "execute_result"
    }
   ],
   "source": [
    "new_df.head()"
   ]
  },
  {
   "cell_type": "code",
   "execution_count": 9,
   "metadata": {
    "collapsed": true
   },
   "outputs": [],
   "source": [
    "label = df[['Target']]"
   ]
  },
  {
   "cell_type": "code",
   "execution_count": 10,
   "metadata": {
    "collapsed": false
   },
   "outputs": [
    {
     "data": {
      "text/html": [
       "<div>\n",
       "<table border=\"1\" class=\"dataframe\">\n",
       "  <thead>\n",
       "    <tr style=\"text-align: right;\">\n",
       "      <th></th>\n",
       "      <th>Target</th>\n",
       "    </tr>\n",
       "  </thead>\n",
       "  <tbody>\n",
       "    <tr>\n",
       "      <th>0</th>\n",
       "      <td>0</td>\n",
       "    </tr>\n",
       "    <tr>\n",
       "      <th>1</th>\n",
       "      <td>0</td>\n",
       "    </tr>\n",
       "    <tr>\n",
       "      <th>2</th>\n",
       "      <td>0</td>\n",
       "    </tr>\n",
       "    <tr>\n",
       "      <th>3</th>\n",
       "      <td>0</td>\n",
       "    </tr>\n",
       "    <tr>\n",
       "      <th>4</th>\n",
       "      <td>0</td>\n",
       "    </tr>\n",
       "  </tbody>\n",
       "</table>\n",
       "</div>"
      ],
      "text/plain": [
       "   Target\n",
       "0       0\n",
       "1       0\n",
       "2       0\n",
       "3       0\n",
       "4       0"
      ]
     },
     "execution_count": 10,
     "metadata": {},
     "output_type": "execute_result"
    }
   ],
   "source": [
    "label.head()"
   ]
  },
  {
   "cell_type": "code",
   "execution_count": 11,
   "metadata": {
    "collapsed": true
   },
   "outputs": [],
   "source": [
    "from sklearn.cross_validation import train_test_split"
   ]
  },
  {
   "cell_type": "code",
   "execution_count": 13,
   "metadata": {
    "collapsed": false
   },
   "outputs": [],
   "source": [
    "train_feat,test_feat,train_lb,test_lb = train_test_split(new_df,label,test_size=0.2)"
   ]
  },
  {
   "cell_type": "code",
   "execution_count": 14,
   "metadata": {
    "collapsed": true
   },
   "outputs": [],
   "source": [
    "from sklearn import tree"
   ]
  },
  {
   "cell_type": "code",
   "execution_count": 15,
   "metadata": {
    "collapsed": true
   },
   "outputs": [],
   "source": [
    "clf = tree.DecisionTreeClassifier()"
   ]
  },
  {
   "cell_type": "code",
   "execution_count": 17,
   "metadata": {
    "collapsed": false
   },
   "outputs": [],
   "source": [
    "trained = clf.fit(train_feat,train_lb)"
   ]
  },
  {
   "cell_type": "code",
   "execution_count": 18,
   "metadata": {
    "collapsed": true
   },
   "outputs": [],
   "source": [
    "pred = trained.predict(test_feat)"
   ]
  },
  {
   "cell_type": "code",
   "execution_count": 19,
   "metadata": {
    "collapsed": false
   },
   "outputs": [
    {
     "name": "stdout",
     "output_type": "stream",
     "text": [
      "[0 0 0 1 0 0 0 0 0 0 0 0 0 0 0 0 1 0 0 0 0 0 0 0 0 0 0 0 0 1 0 0 0 0 0 0 1\n",
      " 0 0 1 0 1 0 0 0 0 0 0 0 0 0 0 0 0 0 0 0 1 0 0 0 0 0 0 0 0 0 0 0 0 0 1 0 0\n",
      " 0 0 0 1 0 0 0 0 0 0 0 0 0 0 0 0 0 0 0 0 0 0 0 0 0 0 0 0 0 0 1 0 0 0 0 1 0\n",
      " 0 1 0 1 0 0 1 0 0 0 0 0 0 0 1 0 0 0 0 1 0 0 0 0 1 0 0 1 1 0 0 0 0 0 0 0 0\n",
      " 1 0 1 0 0 0 0 1 0 0 1 0 0 0 0 1 0 0 0 0 0 0 0 0 0 0 0 0 0 0 0 1 0 0 1 0 1\n",
      " 0 1 1 0 0 1 0 0 0 0 0 0 0 1 0 0 0 0 0 0 0 1 0 0 0 0 1 0 0 0 0 1 0 1 1 0 0\n",
      " 0 1 0 0 0 0 0 0 0 0 0 1 0 0 0 1 0 1 0 0 0 0 0 0 0 0 0 0 0 0 0 0 0 1 0 1 0\n",
      " 0 0 0 0 0 0 0 0 0 0 0 0 0 0 0 0 0 0 0 0 0 1 0 1 0 0 0 0]\n"
     ]
    }
   ],
   "source": [
    "print(pred)"
   ]
  },
  {
   "cell_type": "code",
   "execution_count": 31,
   "metadata": {
    "collapsed": false
   },
   "outputs": [],
   "source": [
    "test_label = test_lb.iloc[:,0]"
   ]
  },
  {
   "cell_type": "code",
   "execution_count": 32,
   "metadata": {
    "collapsed": false
   },
   "outputs": [
    {
     "data": {
      "text/plain": [
       "array([0, 0, 0, 1, 0, 0, 0, 0, 0, 0, 0, 0, 0, 0, 0, 0, 1, 0, 0, 0, 0, 0, 0,\n",
       "       0, 0, 0, 0, 0, 0, 1, 0, 0, 0, 0, 0, 0, 1, 0, 0, 1, 0, 1, 0, 0, 0, 0,\n",
       "       0, 0, 0, 0, 0, 0, 0, 0, 0, 0, 0, 1, 0, 0, 0, 0, 0, 0, 0, 0, 0, 0, 0,\n",
       "       0, 0, 1, 0, 0, 0, 0, 0, 1, 0, 0, 0, 0, 0, 0, 0, 0, 0, 0, 0, 0, 0, 0,\n",
       "       0, 0, 0, 0, 0, 0, 0, 0, 0, 0, 0, 0, 1, 0, 0, 0, 0, 1, 0, 0, 1, 0, 1,\n",
       "       0, 0, 1, 0, 0, 0, 0, 0, 0, 0, 1, 0, 0, 0, 0, 1, 0, 0, 0, 0, 1, 0, 0,\n",
       "       1, 1, 0, 0, 0, 0, 0, 0, 0, 0, 1, 0, 1, 0, 0, 0, 0, 1, 0, 0, 1, 0, 0,\n",
       "       0, 0, 1, 0, 0, 0, 0, 0, 0, 0, 0, 0, 0, 0, 0, 0, 0, 0, 1, 0, 0, 1, 0,\n",
       "       1, 0, 1, 1, 0, 0, 1, 0, 0, 0, 0, 0, 0, 0, 1, 0, 0, 0, 0, 0, 0, 0, 1,\n",
       "       0, 0, 0, 0, 1, 0, 0, 0, 0, 1, 0, 1, 1, 0, 0, 0, 1, 0, 0, 0, 0, 0, 0,\n",
       "       0, 0, 0, 1, 0, 0, 0, 1, 0, 1, 0, 0, 0, 0, 0, 0, 0, 0, 0, 0, 0, 0, 0,\n",
       "       0, 0, 1, 0, 1, 0, 0, 0, 0, 0, 0, 0, 0, 0, 0, 0, 0, 0, 0, 0, 0, 0, 0,\n",
       "       0, 0, 0, 0, 1, 0, 1, 0, 0, 0, 0])"
      ]
     },
     "execution_count": 32,
     "metadata": {},
     "output_type": "execute_result"
    }
   ],
   "source": [
    "test_label.values"
   ]
  },
  {
   "cell_type": "code",
   "execution_count": 33,
   "metadata": {
    "collapsed": true
   },
   "outputs": [],
   "source": [
    "from sklearn.metrics import accuracy_score"
   ]
  },
  {
   "cell_type": "code",
   "execution_count": 34,
   "metadata": {
    "collapsed": true
   },
   "outputs": [],
   "source": [
    "acc = accuracy_score(test_lb,pred)"
   ]
  },
  {
   "cell_type": "code",
   "execution_count": 36,
   "metadata": {
    "collapsed": false
   },
   "outputs": [
    {
     "data": {
      "text/plain": [
       "100.0"
      ]
     },
     "execution_count": 36,
     "metadata": {},
     "output_type": "execute_result"
    }
   ],
   "source": [
    "acc * 100"
   ]
  },
  {
   "cell_type": "code",
   "execution_count": 37,
   "metadata": {
    "collapsed": false
   },
   "outputs": [
    {
     "data": {
      "text/html": [
       "<div>\n",
       "<table border=\"1\" class=\"dataframe\">\n",
       "  <thead>\n",
       "    <tr style=\"text-align: right;\">\n",
       "      <th></th>\n",
       "      <th>Target</th>\n",
       "    </tr>\n",
       "  </thead>\n",
       "  <tbody>\n",
       "    <tr>\n",
       "      <th>591</th>\n",
       "      <td>0</td>\n",
       "    </tr>\n",
       "    <tr>\n",
       "      <th>653</th>\n",
       "      <td>0</td>\n",
       "    </tr>\n",
       "    <tr>\n",
       "      <th>1226</th>\n",
       "      <td>0</td>\n",
       "    </tr>\n",
       "    <tr>\n",
       "      <th>1163</th>\n",
       "      <td>1</td>\n",
       "    </tr>\n",
       "    <tr>\n",
       "      <th>965</th>\n",
       "      <td>0</td>\n",
       "    </tr>\n",
       "    <tr>\n",
       "      <th>538</th>\n",
       "      <td>0</td>\n",
       "    </tr>\n",
       "    <tr>\n",
       "      <th>1097</th>\n",
       "      <td>0</td>\n",
       "    </tr>\n",
       "    <tr>\n",
       "      <th>875</th>\n",
       "      <td>0</td>\n",
       "    </tr>\n",
       "    <tr>\n",
       "      <th>1101</th>\n",
       "      <td>0</td>\n",
       "    </tr>\n",
       "    <tr>\n",
       "      <th>999</th>\n",
       "      <td>0</td>\n",
       "    </tr>\n",
       "    <tr>\n",
       "      <th>137</th>\n",
       "      <td>0</td>\n",
       "    </tr>\n",
       "    <tr>\n",
       "      <th>750</th>\n",
       "      <td>0</td>\n",
       "    </tr>\n",
       "    <tr>\n",
       "      <th>775</th>\n",
       "      <td>0</td>\n",
       "    </tr>\n",
       "    <tr>\n",
       "      <th>310</th>\n",
       "      <td>0</td>\n",
       "    </tr>\n",
       "    <tr>\n",
       "      <th>387</th>\n",
       "      <td>0</td>\n",
       "    </tr>\n",
       "    <tr>\n",
       "      <th>321</th>\n",
       "      <td>0</td>\n",
       "    </tr>\n",
       "    <tr>\n",
       "      <th>611</th>\n",
       "      <td>1</td>\n",
       "    </tr>\n",
       "    <tr>\n",
       "      <th>217</th>\n",
       "      <td>0</td>\n",
       "    </tr>\n",
       "    <tr>\n",
       "      <th>589</th>\n",
       "      <td>0</td>\n",
       "    </tr>\n",
       "    <tr>\n",
       "      <th>862</th>\n",
       "      <td>0</td>\n",
       "    </tr>\n",
       "    <tr>\n",
       "      <th>576</th>\n",
       "      <td>0</td>\n",
       "    </tr>\n",
       "    <tr>\n",
       "      <th>439</th>\n",
       "      <td>0</td>\n",
       "    </tr>\n",
       "    <tr>\n",
       "      <th>1432</th>\n",
       "      <td>0</td>\n",
       "    </tr>\n",
       "    <tr>\n",
       "      <th>265</th>\n",
       "      <td>0</td>\n",
       "    </tr>\n",
       "    <tr>\n",
       "      <th>675</th>\n",
       "      <td>0</td>\n",
       "    </tr>\n",
       "    <tr>\n",
       "      <th>569</th>\n",
       "      <td>0</td>\n",
       "    </tr>\n",
       "    <tr>\n",
       "      <th>858</th>\n",
       "      <td>0</td>\n",
       "    </tr>\n",
       "    <tr>\n",
       "      <th>693</th>\n",
       "      <td>0</td>\n",
       "    </tr>\n",
       "    <tr>\n",
       "      <th>726</th>\n",
       "      <td>0</td>\n",
       "    </tr>\n",
       "    <tr>\n",
       "      <th>1023</th>\n",
       "      <td>1</td>\n",
       "    </tr>\n",
       "    <tr>\n",
       "      <th>...</th>\n",
       "      <td>...</td>\n",
       "    </tr>\n",
       "    <tr>\n",
       "      <th>168</th>\n",
       "      <td>1</td>\n",
       "    </tr>\n",
       "    <tr>\n",
       "      <th>356</th>\n",
       "      <td>0</td>\n",
       "    </tr>\n",
       "    <tr>\n",
       "      <th>1320</th>\n",
       "      <td>0</td>\n",
       "    </tr>\n",
       "    <tr>\n",
       "      <th>1054</th>\n",
       "      <td>0</td>\n",
       "    </tr>\n",
       "    <tr>\n",
       "      <th>1195</th>\n",
       "      <td>0</td>\n",
       "    </tr>\n",
       "    <tr>\n",
       "      <th>599</th>\n",
       "      <td>0</td>\n",
       "    </tr>\n",
       "    <tr>\n",
       "      <th>1019</th>\n",
       "      <td>0</td>\n",
       "    </tr>\n",
       "    <tr>\n",
       "      <th>2</th>\n",
       "      <td>0</td>\n",
       "    </tr>\n",
       "    <tr>\n",
       "      <th>108</th>\n",
       "      <td>0</td>\n",
       "    </tr>\n",
       "    <tr>\n",
       "      <th>129</th>\n",
       "      <td>0</td>\n",
       "    </tr>\n",
       "    <tr>\n",
       "      <th>615</th>\n",
       "      <td>0</td>\n",
       "    </tr>\n",
       "    <tr>\n",
       "      <th>757</th>\n",
       "      <td>0</td>\n",
       "    </tr>\n",
       "    <tr>\n",
       "      <th>737</th>\n",
       "      <td>0</td>\n",
       "    </tr>\n",
       "    <tr>\n",
       "      <th>1325</th>\n",
       "      <td>0</td>\n",
       "    </tr>\n",
       "    <tr>\n",
       "      <th>332</th>\n",
       "      <td>0</td>\n",
       "    </tr>\n",
       "    <tr>\n",
       "      <th>492</th>\n",
       "      <td>0</td>\n",
       "    </tr>\n",
       "    <tr>\n",
       "      <th>1011</th>\n",
       "      <td>0</td>\n",
       "    </tr>\n",
       "    <tr>\n",
       "      <th>651</th>\n",
       "      <td>0</td>\n",
       "    </tr>\n",
       "    <tr>\n",
       "      <th>1111</th>\n",
       "      <td>0</td>\n",
       "    </tr>\n",
       "    <tr>\n",
       "      <th>892</th>\n",
       "      <td>0</td>\n",
       "    </tr>\n",
       "    <tr>\n",
       "      <th>300</th>\n",
       "      <td>0</td>\n",
       "    </tr>\n",
       "    <tr>\n",
       "      <th>526</th>\n",
       "      <td>0</td>\n",
       "    </tr>\n",
       "    <tr>\n",
       "      <th>272</th>\n",
       "      <td>0</td>\n",
       "    </tr>\n",
       "    <tr>\n",
       "      <th>661</th>\n",
       "      <td>1</td>\n",
       "    </tr>\n",
       "    <tr>\n",
       "      <th>138</th>\n",
       "      <td>0</td>\n",
       "    </tr>\n",
       "    <tr>\n",
       "      <th>24</th>\n",
       "      <td>1</td>\n",
       "    </tr>\n",
       "    <tr>\n",
       "      <th>1244</th>\n",
       "      <td>0</td>\n",
       "    </tr>\n",
       "    <tr>\n",
       "      <th>342</th>\n",
       "      <td>0</td>\n",
       "    </tr>\n",
       "    <tr>\n",
       "      <th>519</th>\n",
       "      <td>0</td>\n",
       "    </tr>\n",
       "    <tr>\n",
       "      <th>636</th>\n",
       "      <td>0</td>\n",
       "    </tr>\n",
       "  </tbody>\n",
       "</table>\n",
       "<p>287 rows × 1 columns</p>\n",
       "</div>"
      ],
      "text/plain": [
       "      Target\n",
       "591        0\n",
       "653        0\n",
       "1226       0\n",
       "1163       1\n",
       "965        0\n",
       "538        0\n",
       "1097       0\n",
       "875        0\n",
       "1101       0\n",
       "999        0\n",
       "137        0\n",
       "750        0\n",
       "775        0\n",
       "310        0\n",
       "387        0\n",
       "321        0\n",
       "611        1\n",
       "217        0\n",
       "589        0\n",
       "862        0\n",
       "576        0\n",
       "439        0\n",
       "1432       0\n",
       "265        0\n",
       "675        0\n",
       "569        0\n",
       "858        0\n",
       "693        0\n",
       "726        0\n",
       "1023       1\n",
       "...      ...\n",
       "168        1\n",
       "356        0\n",
       "1320       0\n",
       "1054       0\n",
       "1195       0\n",
       "599        0\n",
       "1019       0\n",
       "2          0\n",
       "108        0\n",
       "129        0\n",
       "615        0\n",
       "757        0\n",
       "737        0\n",
       "1325       0\n",
       "332        0\n",
       "492        0\n",
       "1011       0\n",
       "651        0\n",
       "1111       0\n",
       "892        0\n",
       "300        0\n",
       "526        0\n",
       "272        0\n",
       "661        1\n",
       "138        0\n",
       "24         1\n",
       "1244       0\n",
       "342        0\n",
       "519        0\n",
       "636        0\n",
       "\n",
       "[287 rows x 1 columns]"
      ]
     },
     "execution_count": 37,
     "metadata": {},
     "output_type": "execute_result"
    }
   ],
   "source": [
    "test_lb"
   ]
  },
  {
   "cell_type": "code",
   "execution_count": 46,
   "metadata": {
    "collapsed": false
   },
   "outputs": [
    {
     "name": "stdout",
     "output_type": "stream",
     "text": [
      "31 [0]\n",
      "13 [0]\n",
      "26 [0]\n",
      "3 [1]\n",
      "5 [0]\n",
      "18 [0]\n",
      "17 [0]\n",
      "35 [0]\n",
      "21 [0]\n",
      "39 [0]\n",
      "17 [0]\n",
      "30 [0]\n",
      "15 [0]\n",
      "30 [0]\n",
      "27 [0]\n",
      "1 [0]\n",
      "11 [1]\n",
      "17 [0]\n",
      "29 [0]\n",
      "22 [0]\n",
      "16 [0]\n",
      "39 [0]\n",
      "32 [0]\n",
      "25 [0]\n",
      "35 [0]\n",
      "9 [0]\n",
      "18 [0]\n",
      "13 [0]\n",
      "6 [0]\n",
      "23 [1]\n",
      "3 [0]\n",
      "0 [0]\n",
      "6 [0]\n",
      "39 [0]\n",
      "31 [0]\n",
      "1 [0]\n",
      "4 [1]\n",
      "11 [0]\n",
      "32 [0]\n",
      "19 [1]\n",
      "3 [0]\n",
      "21 [1]\n",
      "39 [0]\n",
      "26 [0]\n",
      "15 [0]\n",
      "28 [0]\n",
      "0 [0]\n",
      "31 [0]\n",
      "23 [0]\n",
      "18 [0]\n",
      "31 [0]\n",
      "27 [0]\n",
      "2 [0]\n",
      "27 [0]\n",
      "23 [0]\n",
      "14 [0]\n",
      "34 [0]\n",
      "39 [1]\n",
      "26 [0]\n",
      "33 [0]\n",
      "28 [0]\n",
      "2 [0]\n",
      "15 [0]\n",
      "24 [0]\n",
      "18 [0]\n",
      "20 [0]\n",
      "18 [0]\n",
      "33 [0]\n",
      "34 [0]\n",
      "37 [0]\n",
      "12 [0]\n",
      "18 [1]\n",
      "9 [0]\n",
      "28 [0]\n",
      "8 [0]\n",
      "28 [0]\n",
      "36 [0]\n",
      "0 [1]\n",
      "21 [0]\n",
      "7 [0]\n",
      "34 [0]\n",
      "17 [0]\n",
      "27 [0]\n",
      "3 [0]\n",
      "2 [0]\n",
      "22 [0]\n",
      "6 [0]\n",
      "8 [0]\n",
      "4 [0]\n",
      "1 [0]\n",
      "8 [0]\n",
      "2 [0]\n",
      "5 [0]\n",
      "30 [0]\n",
      "35 [0]\n",
      "23 [0]\n",
      "16 [0]\n",
      "12 [0]\n",
      "6 [0]\n",
      "14 [0]\n",
      "30 [0]\n",
      "5 [0]\n",
      "22 [0]\n",
      "30 [0]\n",
      "29 [1]\n",
      "16 [0]\n",
      "12 [0]\n",
      "7 [0]\n",
      "34 [0]\n",
      "4 [1]\n",
      "33 [0]\n",
      "20 [0]\n",
      "17 [1]\n",
      "19 [0]\n",
      "33 [1]\n",
      "29 [0]\n",
      "15 [0]\n",
      "20 [1]\n",
      "1 [0]\n",
      "17 [0]\n",
      "7 [0]\n",
      "31 [0]\n",
      "26 [0]\n",
      "3 [0]\n",
      "35 [0]\n",
      "35 [1]\n",
      "23 [0]\n",
      "33 [0]\n",
      "18 [0]\n",
      "37 [0]\n",
      "20 [1]\n",
      "22 [0]\n",
      "37 [0]\n",
      "36 [0]\n",
      "2 [0]\n",
      "27 [1]\n",
      "39 [0]\n",
      "26 [0]\n",
      "1 [1]\n",
      "12 [1]\n",
      "10 [0]\n",
      "21 [0]\n",
      "12 [0]\n",
      "38 [0]\n",
      "16 [0]\n",
      "14 [0]\n",
      "19 [0]\n",
      "36 [0]\n",
      "31 [1]\n",
      "32 [0]\n",
      "13 [1]\n",
      "0 [0]\n",
      "19 [0]\n",
      "16 [0]\n",
      "5 [0]\n",
      "12 [1]\n",
      "7 [0]\n",
      "6 [0]\n",
      "34 [1]\n",
      "25 [0]\n",
      "26 [0]\n",
      "1 [0]\n",
      "21 [0]\n",
      "9 [1]\n",
      "7 [0]\n",
      "24 [0]\n",
      "28 [0]\n",
      "25 [0]\n",
      "24 [0]\n",
      "20 [0]\n",
      "37 [0]\n",
      "19 [0]\n",
      "26 [0]\n",
      "26 [0]\n",
      "32 [0]\n",
      "1 [0]\n",
      "0 [0]\n",
      "31 [0]\n",
      "22 [0]\n",
      "2 [1]\n",
      "2 [0]\n",
      "21 [0]\n",
      "26 [1]\n",
      "14 [0]\n",
      "7 [1]\n",
      "4 [0]\n",
      "24 [1]\n",
      "4 [1]\n",
      "16 [0]\n",
      "1 [0]\n",
      "3 [1]\n",
      "39 [0]\n",
      "34 [0]\n",
      "19 [0]\n",
      "11 [0]\n",
      "25 [0]\n",
      "5 [0]\n",
      "38 [0]\n",
      "14 [1]\n",
      "35 [0]\n",
      "36 [0]\n",
      "15 [0]\n",
      "27 [0]\n",
      "7 [0]\n",
      "25 [0]\n",
      "31 [0]\n",
      "15 [1]\n",
      "1 [0]\n",
      "16 [0]\n",
      "8 [0]\n",
      "19 [0]\n",
      "14 [1]\n",
      "11 [0]\n",
      "16 [0]\n",
      "15 [0]\n",
      "29 [0]\n",
      "16 [1]\n",
      "3 [0]\n",
      "33 [1]\n",
      "37 [1]\n",
      "1 [0]\n",
      "30 [0]\n",
      "37 [0]\n",
      "27 [1]\n",
      "9 [0]\n",
      "1 [0]\n",
      "34 [0]\n",
      "38 [0]\n",
      "12 [0]\n",
      "15 [0]\n",
      "26 [0]\n",
      "25 [0]\n",
      "4 [0]\n",
      "9 [1]\n",
      "20 [0]\n",
      "10 [0]\n",
      "32 [0]\n",
      "1 [1]\n",
      "37 [0]\n",
      "12 [1]\n",
      "9 [0]\n",
      "5 [0]\n",
      "26 [0]\n",
      "13 [0]\n",
      "9 [0]\n",
      "26 [0]\n",
      "33 [0]\n",
      "32 [0]\n",
      "23 [0]\n",
      "25 [0]\n",
      "26 [0]\n",
      "4 [0]\n",
      "5 [0]\n",
      "6 [0]\n",
      "5 [0]\n",
      "7 [1]\n",
      "21 [0]\n",
      "8 [1]\n",
      "36 [0]\n",
      "0 [0]\n",
      "14 [0]\n",
      "35 [0]\n",
      "39 [0]\n",
      "19 [0]\n",
      "2 [0]\n",
      "28 [0]\n",
      "9 [0]\n",
      "15 [0]\n",
      "37 [0]\n",
      "17 [0]\n",
      "5 [0]\n",
      "12 [0]\n",
      "12 [0]\n",
      "11 [0]\n",
      "11 [0]\n",
      "31 [0]\n",
      "12 [0]\n",
      "20 [0]\n",
      "6 [0]\n",
      "32 [0]\n",
      "21 [1]\n",
      "18 [0]\n",
      "24 [1]\n",
      "4 [0]\n",
      "22 [0]\n",
      "39 [0]\n",
      "36 [0]\n"
     ]
    }
   ],
   "source": [
    "x = []\n",
    "y = []\n",
    "for i,row in test_lb.iterrows():\n",
    "    lamp_number = i % 40\n",
    "    x.append(lamp_number)\n",
    "    y.append(row.values)\n",
    "    print(lamp_number,row.values)"
   ]
  },
  {
   "cell_type": "code",
   "execution_count": 47,
   "metadata": {
    "collapsed": false
   },
   "outputs": [
    {
     "name": "stdout",
     "output_type": "stream",
     "text": [
      "[31, 13, 26, 3, 5, 18, 17, 35, 21, 39, 17, 30, 15, 30, 27, 1, 11, 17, 29, 22, 16, 39, 32, 25, 35, 9, 18, 13, 6, 23, 3, 0, 6, 39, 31, 1, 4, 11, 32, 19, 3, 21, 39, 26, 15, 28, 0, 31, 23, 18, 31, 27, 2, 27, 23, 14, 34, 39, 26, 33, 28, 2, 15, 24, 18, 20, 18, 33, 34, 37, 12, 18, 9, 28, 8, 28, 36, 0, 21, 7, 34, 17, 27, 3, 2, 22, 6, 8, 4, 1, 8, 2, 5, 30, 35, 23, 16, 12, 6, 14, 30, 5, 22, 30, 29, 16, 12, 7, 34, 4, 33, 20, 17, 19, 33, 29, 15, 20, 1, 17, 7, 31, 26, 3, 35, 35, 23, 33, 18, 37, 20, 22, 37, 36, 2, 27, 39, 26, 1, 12, 10, 21, 12, 38, 16, 14, 19, 36, 31, 32, 13, 0, 19, 16, 5, 12, 7, 6, 34, 25, 26, 1, 21, 9, 7, 24, 28, 25, 24, 20, 37, 19, 26, 26, 32, 1, 0, 31, 22, 2, 2, 21, 26, 14, 7, 4, 24, 4, 16, 1, 3, 39, 34, 19, 11, 25, 5, 38, 14, 35, 36, 15, 27, 7, 25, 31, 15, 1, 16, 8, 19, 14, 11, 16, 15, 29, 16, 3, 33, 37, 1, 30, 37, 27, 9, 1, 34, 38, 12, 15, 26, 25, 4, 9, 20, 10, 32, 1, 37, 12, 9, 5, 26, 13, 9, 26, 33, 32, 23, 25, 26, 4, 5, 6, 5, 7, 21, 8, 36, 0, 14, 35, 39, 19, 2, 28, 9, 15, 37, 17, 5, 12, 12, 11, 11, 31, 12, 20, 6, 32, 21, 18, 24, 4, 22, 39, 36]\n"
     ]
    }
   ],
   "source": [
    "print(x)"
   ]
  },
  {
   "cell_type": "code",
   "execution_count": 52,
   "metadata": {
    "collapsed": false
   },
   "outputs": [
    {
     "name": "stderr",
     "output_type": "stream",
     "text": [
      "/root/anaconda3/lib/python3.5/site-packages/matplotlib/axes/_axes.py:519: UserWarning: No labelled objects found. Use label='...' kwarg on individual plots.\n",
      "  warnings.warn(\"No labelled objects found. \"\n"
     ]
    }
   ],
   "source": [
    "plt.xlabel('Lamp Id')\n",
    "plt.ylabel('Faulty or Not')\n",
    "plt.scatter(x,y)\n",
    "plt.legend()\n",
    "plt.show()"
   ]
  },
  {
   "cell_type": "code",
   "execution_count": 56,
   "metadata": {
    "collapsed": false
   },
   "outputs": [],
   "source": [
    "import numpy as np\n",
    "import seaborn as sns"
   ]
  },
  {
   "cell_type": "code",
   "execution_count": 57,
   "metadata": {
    "collapsed": false
   },
   "outputs": [
    {
     "data": {
      "text/plain": [
       "<matplotlib.axes._subplots.AxesSubplot at 0x7f8a3cc876d8>"
      ]
     },
     "execution_count": 57,
     "metadata": {},
     "output_type": "execute_result"
    }
   ],
   "source": [
    "plt.figure(figsize=(15,15))\n",
    "sns.heatmap(df.corr(), cmap=\"coolwarm\", annot=True)"
   ]
  },
  {
   "cell_type": "code",
   "execution_count": 66,
   "metadata": {
    "collapsed": false
   },
   "outputs": [],
   "source": [
    " ax = sns.heatmap(df.corr(), cmap=\"coolwarm\", annot=True)"
   ]
  },
  {
   "cell_type": "code",
   "execution_count": 68,
   "metadata": {
    "collapsed": false
   },
   "outputs": [],
   "source": [
    "ax.figure\n",
    "plt.show()"
   ]
  },
  {
   "cell_type": "code",
   "execution_count": null,
   "metadata": {
    "collapsed": true
   },
   "outputs": [],
   "source": []
  }
 ],
 "metadata": {
  "kernelspec": {
   "display_name": "Python 3",
   "language": "python",
   "name": "python3"
  },
  "language_info": {
   "codemirror_mode": {
    "name": "ipython",
    "version": 3
   },
   "file_extension": ".py",
   "mimetype": "text/x-python",
   "name": "python",
   "nbconvert_exporter": "python",
   "pygments_lexer": "ipython3",
   "version": "3.5.1"
  }
 },
 "nbformat": 4,
 "nbformat_minor": 0
}
